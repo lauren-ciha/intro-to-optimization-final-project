{
 "cells": [
  {
   "cell_type": "markdown",
   "metadata": {},
   "source": [
    "### CS/ECE/ISyE 524 &mdash; Introduction to Optimization &mdash; Spring 2023 ###\n",
    "\n",
    "### Final Course Project: Due 5/5/23\n",
    "\n",
    "# Project title goes here #\n",
    "\n",
    "#### Lauren Ciha lciha@wisc.edu\n",
    "\n",
    "*Disclaimer: I was not paid by Todoist to do my project on their app or to market their app in any way. I chose to do my project on the Todoist app and task dependency because I wanted to hack my to-do list, which is currently in Todoist. Many of the conclusions here transfer to other productivity apps as well.*\n",
    "\n",
    "*****\n",
    "\n",
    "### Table of Contents\n",
    "\n",
    "1. [Introduction](#1.-Introduction)\n",
    "1. [Mathematical Model](#2.-Mathematical-model)\n",
    "1. [Solution](#3.-Solution)\n",
    "1. [Results and Discussion](#4.-Results-and-discussion)\n",
    "  1. [Optional Subsection](#4.A.-Feel-free-to-add-subsections)\n",
    "1. [Conclusion](#5.-Conclusion)"
   ]
  },
  {
   "cell_type": "markdown",
   "metadata": {
    "collapsed": true
   },
   "source": [
    "## 1. Introduction ##\n",
    "\n",
    "To-do lists are great for keeping track of what to do. But they rarely give you a place to start.\n",
    "\n",
    "I use the Todoist app (put a link in here) to keep track of what I need to do. The app allows you to sort tasks into projects and further into sections. From there, you can set deadlines, add tags to sort tasks, and rate their priority.\n",
    "\n",
    "Here's an example of some of my weekly tasks this semester:\n",
    "\n",
    "![todolist.png](todolist.png)\n",
    "\n",
    "You can see that I have laid out my tasks, put them in a section, and added tags estimating the amount of time it will take me to complete each task. One of these tasks has a subtask.\n",
    "\n",
    "![subtask.png](subtask.png)\n",
    "\n",
    "For this assignment, I prefer to print out the worksheet, fill it out, and then upload it as a pdf. In order to do my homework assignment, then, I need to *first* print out the worksheet. Normally, a subtask indicates part of a task that is included in the main task, but in this case, I'm using a subtask to express that a task depends on another, in other words, that I need to finish the subtask before marking the main task as complete.\n",
    "\n",
    "Currently, Todoist doesn't have a way to label a task as dependent on another. In addition to subtasks, I sometimes express dependency with a '@waiting' tag and then write what I'm waiting for in the task description.\n",
    "\n",
    "![waiting.png](waiting.png)\n",
    "\n",
    "Although task dependency may not appear in the Todoist user interface, it's a well-known linear program. (we can define linear program here if needed). There are two models or frameworks we can use to minimize the time it takes to complete tasks when some tasks depend on others. The first is called multi-planning problem and the other is longest-path. With these two models, we can determine what order I should complete my tasks in to minimize the time it takes to do everything. \n",
    "\n",
    "**In this project, I'm going to model tasks with dependencies from my own to-do list. From there, I plan to use these models as a starting point for suggesting how to incorporate a task dependency feature into the Todoist app.**\n",
    "\n",
    "\n",
    "\n",
    "\n",
    "The first few sentences should give a quick overview of the entire project. Then, elaborate with a description of the problem that will be solved, a brief history (with [citations](https://en.wikipedia.org/wiki/Citation)) of how the problem came about, why it's important/interesting, and any other interesting facts you'd like to talk about. You should address and explain where the problem data is coming from (research? the internet? synthetically generated?) Also give an outline of the rest of the report.\n",
    "\n",
    "This section should be 300-600 words long, and **should be accessible to a general audience** (don't assume your reader has taken the class!). Feel free to include images if you think it'll be helpful:\n",
    "\n",
    "For more help on using Markdown, see [this reference](https://github.com/adam-p/markdown-here/wiki/Markdown-Cheatsheet).\n"
   ]
  },
  {
   "cell_type": "markdown",
   "metadata": {
    "collapsed": true
   },
   "source": [
    "## 2. Mathematical models ##\n",
    "\n",
    "Let's take a look at that to-do list again:\n",
    "\n",
    "![todolist.png](todolist.png)\n",
    "\n",
    "### The Traveling Salesperson Problem\n",
    "\n",
    "The traveling salesperson problem is as follows: Suppose a salesperson has to visit a certain number of cities and must end the tour in the same city they started in. How do they travel to all cities exactly once in order to minimize the total distance traveled?\n",
    "\n",
    "We can visualize this through a graph (insert image here)\n",
    "\n",
    "We can formulate our to-do list problem as a traveling salesperson problem. Given a list of tasks to be done where each task must be done sequentially and a set of dependency constraints, what order should the tasks be done in order to minimize the total work time?\n",
    "\n",
    "Unlike the traveling salesperson problem, which only wants to create one tour that covers all cities, we want to create a task list for all the tasks by splitting them into different days. In other words, we want to split the list of tasks into several \"subtours\", where each \"subtour\" is the list of tasks (in order) that need to be done each day. In this case, the fact that each subtour ends at the same task they started with doesn't exactly cross over into the original problem and can be ignored.\n",
    "\n",
    "#### Decision Variables \n",
    "\n",
    "In our formulation of the Traveling Salesperson Problem, the decision variables are the day that a task is done and the order that task is in for a given day (and therefore in the order relative to all tasks). We will use two binary variables to represent these two aspects of the decision variable(s). $z_{ij}$ represents the order a task is done in, where $z_{ij}$ means that task i is followed by task j. $d_{ij}$ is a number of tasks x days matrix where $d_{ij}$ represents that task i is done on day j.\n",
    "\n",
    "$ z_{i,j \\in \\mathcal{T}} = \\begin{cases}\n",
    "1 \\quad \\text{if i is followed by j} \\\\\n",
    "0 \\quad \\text{otherwise}\n",
    "\\end{cases}$\n",
    "\n",
    "$ d_{i \\in \\mathcal{T}, j \\in \\mathcal{D}} = \\begin{cases}\n",
    "1 \\quad \\text{if task i is completed on day j} \\\\\n",
    "0 \\quad \\text{otherwise}\n",
    "\\end{cases}$\n",
    "\n",
    "Let $\\mathcal{T}$ be the set of tasks to complete.\n",
    "Let $\\mathcal{D}$ be the set of days for the tasks to be completed in.\n",
    "Let $\\mathcal{P}$ be the set of tasks that are the ancestors of a given task.\n",
    "Let $\\text{duration}_i$ be the set of task durations for a task i.\n",
    "Let $\\text{total_work_time}$ be the set of total work times for each day in $\\mathcal{D}$.\n",
    "\n",
    "#### Constraints\n",
    "\n",
    "##### Tasks must be completed one at a time:\n",
    "* All of the tasks must be done: $\\sum_{i,j \\in \\mathcal{T}} z_{ij} = |\\mathcal{T}|$ \n",
    "* All tasks must be completed sequentially:\n",
    "    * $\\sum_{j \\in \\mathcal{T}} z_{ij} = 1 \\quad \\forall i \\in \\mathcal{T}$\n",
    "    * $\\sum_{i \\in \\mathcal{T}} z_{ij} = 1 \\quad \\forall j \\in \\mathcal{T}$ \n",
    "* A task can't follow itself: $z_{ii} = 0$\n",
    "* Once a task is completed, it can't be done again: $z_{ij} + z_{ji} \\le 1$\n",
    "* precedence constraints must be upheld: for all tasks in pred, $z_{ij} = 0$\n",
    "    \n",
    "##### Tasks are assigned to days\n",
    "* Each task must be assigned a day: $\\sum_{j \\in \\mathcal{D}} d_{ij} = 1$\n",
    "* Each task can only be assigned to one day: $\\sum_{i \\in \\mathcal{T}, j \\in \\mathcal{D}} d_{ij} \\le |\\mathcal{T}|$\n",
    "* the total time to complete all the tasks in a day cannot exceed the amount of time available: $\\sum_{i \\in \\mathcal{T}, j \\in \\mathcal{D}} d_{ij}*\\text{duration}_{i} \\le \\text{total_work_time}_j$\n",
    "* each task must be completed before its deadline: for i in tasks and j in days, $d_ij = 0$ when $j > deadlines_i$\n",
    "\n",
    "#### Objective\n",
    "\n",
    "We want to minimize the amount of time procrastinating, so we will try to complete all the tasks as soon as possible:\n",
    "\n",
    "$\\text{minimize} \\sum d_{ij} * j \\qquad \\forall i \\in \\mathcal{T}, \\quad \\forall j \\in \\mathcal{D}$\n",
    "\n",
    "Since $d_{ij}$ are binary variables, we are summing over indices for each day that work is done.\n",
    "\n",
    "#### In standard form, we can write this as:\n",
    "$$\n",
    "\\begin{aligned} \\\\\n",
    "\\text{minimize} \\qquad& \\sum d_{ij} * j \\quad \\forall i \\in \\mathcal{T}, \\quad \\forall j \\in \\mathcal{D} \\\\\n",
    "\\text{subject to:}\\qquad& \\sum z_{ij} = |\\mathcal{T}|, \\qquad {i,j \\in \\mathcal{T}} \\\\\n",
    "& \\sum_{j \\in \\mathcal{T}} z_{ij} = 1 \\quad \\forall i \\in \\mathcal{T} \\\\\n",
    "& \\sum_{i \\in \\mathcal{T}} z_{ij} = 1 \\quad \\forall j \\in \\mathcal{T} \\\\\n",
    "& z_{ii} = 0 \\\\\n",
    "& z_{ij} + z_{ji} \\le 1 \\\\\n",
    "& z_{ij} = 0 \\\\\n",
    "& \\sum_{j \\in \\mathcal{D}} d_{ij} = 1 \\\\\n",
    "& \\sum_{i \\in \\mathcal{T}, j \\in \\mathcal{D}} d_{ij} \\le |\\mathcal{T}| \\\\\n",
    "& \\sum_{i \\in \\mathcal{T}, j \\in \\mathcal{D}} \\\\\n",
    "& d_{ij}*\\text{duration}_{i} \\le \\text{total_work_time}_j \\\\\n",
    "& d_{ij} = 0\\qquad \\text{when } j > \\text{deadlines}_i \\\\\n",
    "\\end{aligned}\n",
    "$$\n",
    " \n",
    "For some quick tips on using $\\LaTeX$, see [this cheat sheet](http://users.dickinson.edu/~richesod/latex/latexcheatsheet.pdf)."
   ]
  },
  {
   "cell_type": "markdown",
   "metadata": {
    "collapsed": true
   },
   "source": [
    "## 3. Solution ##"
   ]
  },
  {
   "cell_type": "markdown",
   "metadata": {},
   "source": [
    "We can summarize the information in the to-do list in the following table:"
   ]
  },
  {
   "cell_type": "markdown",
   "metadata": {},
   "source": [
    "| Task Name                    | Immediate Predecessors | Duration (minutes) |\n",
    "|------------------------------|------------------------|--------------------|\n",
    "| 524 homework                 | None                   |        360         |\n",
    "| 577 homework                 | c                      |        60          |\n",
    "| print off 577 homework sheet | None                   |        15          |\n",
    "| 354 homework                 | None                   |        120         |\n",
    "| 354 project                  | None                   |        360         |\n",
    "| print off 354 notes sheet    | None                   |        15          |"
   ]
  },
  {
   "cell_type": "markdown",
   "metadata": {},
   "source": [
    "### Data for the problem:"
   ]
  },
  {
   "cell_type": "code",
   "execution_count": 78,
   "metadata": {},
   "outputs": [],
   "source": [
    "tasks = [\"524 homework\", \"577 homework\", \"print off homework sheet\", \"354 homework\",\n",
    "    \"354 project\", \"print off 354 notes sheet\"]\n",
    "\n",
    "# duration is expressed in minutes (where tasks have a duration in 15 minute intervals)\n",
    "durations = [ 3*60 60 15 120 6*60 15 ]\n",
    "\n",
    "# pred stores ancestors on each task\n",
    "pred = ( [], [], [4], [], [], [], [] )\n",
    "\n",
    "# deadlines for each task - 11:59pm that day is the same as <= deadline + 1\n",
    "deadlines = [ 3 4 4 1 5 2 ]\n",
    "\n",
    "num_tasks = length(tasks)\n",
    "    \n",
    "# Day related data:\n",
    "days = [\"Monday\", \"Tuesday\", \"Wednesday\", \"Thursday\", \"Friday\"]\n",
    "    \n",
    "# each entry corresponds to a day\n",
    "available_work_time = [ 5*60 2*60 60 45 24*60]\n",
    "\n",
    "num_days = length(days)\n",
    "\n",
    "print()"
   ]
  },
  {
   "cell_type": "markdown",
   "metadata": {},
   "source": [
    "### Code for Solution: "
   ]
  },
  {
   "cell_type": "code",
   "execution_count": 82,
   "metadata": {},
   "outputs": [
    {
     "name": "stdout",
     "output_type": "stream",
     "text": [
      "Monday: \n",
      "\t524 homework\n",
      "\t354 homework\n",
      "Tuesday: \n",
      "\t577 homework\n",
      "\tprint off homework sheet\n",
      "\tprint off 354 notes sheet\n",
      "Wednesday: \n",
      "Thursday: \n",
      "Friday: \n",
      "\t354 project\n"
     ]
    }
   ],
   "source": [
    "using JuMP, HiGHS\n",
    "m = Model(HiGHS.Optimizer)\n",
    "set_silent(m)\n",
    "\n",
    "# day integer variable where d[i,j] == 1 when task i is assigned to day j\n",
    "@variable(m, d[1:num_tasks, 1:num_days], Bin)\n",
    "\n",
    "# each task must be assigned a day\n",
    "@constraint(m, r2[i=1:num_tasks], sum( d[i,j] for j=1:num_days) == 1)\n",
    "\n",
    "# only one day per task\n",
    "@constraint(m, sum(d[i,j] for i=1:num_tasks, j=1:num_days ) <= num_tasks)   \n",
    "\n",
    "# the time to complete all tasks in a day can't exceed work time per day\n",
    "[ @constraint(m, sum(d[i,j]*durations[i] for i=1:num_tasks) <= available_work_time[j]) for j=1:num_days ]\n",
    "\n",
    "# enforce precedence constraints in d - a task q that follows p cannot happen on a day before p is done\n",
    "for q=1:num_tasks, p in pred[q]\n",
    "    for j=1:num_days\n",
    "        if (d[p,j] == 1)\n",
    "            for k=1:j-1\n",
    "                @constraint(m, d[q,k] == 0)\n",
    "            end\n",
    "        end\n",
    "    end\n",
    "end\n",
    "\n",
    "# meet deadlines\n",
    "[ @constraint(m, d[i,j] == 0) for i=1:num_tasks, j=1:num_days if j > deadlines[i]]\n",
    "\n",
    "# we want to prevent procrastination, so we are going to minimize the last day that all the tasks can be done\n",
    "@objective(m, Min, sum( d[i,j]*j for i=1:num_tasks, j=1:num_days))\n",
    "\n",
    "optimize!(m)\n",
    "\n",
    "D = value.(d)\n",
    "\n",
    "for j=1:num_days\n",
    "    println(days[j],\": \")\n",
    "    for i=1:num_tasks\n",
    "        if (D[i,j] == 1)\n",
    "            println(\"\\t\",tasks[i])\n",
    "        end\n",
    "    end\n",
    "end"
   ]
  },
  {
   "cell_type": "markdown",
   "metadata": {
    "collapsed": true
   },
   "source": [
    "## 4. Results and discussion ##\n",
    "\n",
    "Here, you display and discuss the results. Show figures, plots, images, trade-off curves, or whatever else you can think of to best illustrate your results. The discussion should explain what the results mean, and how to interpret them. You should also explain the limitations of your approach/model and how sensitive your results are to the assumptions you made.\n",
    "\n",
    "## Ideas:\n",
    "Bar graphs indicating how much time per day is used for work times\n",
    "Graphs illustrating what the clusters are?\n",
    "\n",
    "Use plots (see `PyPlot` examples from class), or you can display results in a table like this:\n"
   ]
  },
  {
   "cell_type": "code",
   "execution_count": 71,
   "metadata": {},
   "outputs": [],
   "source": [
    "# Post processing - put the tasks in an order\n",
    "\n",
    "# if there's time, put the tasks in an absolute order\n",
    "\n"
   ]
  },
  {
   "cell_type": "code",
   "execution_count": null,
   "metadata": {},
   "outputs": [],
   "source": [
    "# How much time is allocated per day?\n",
    "\"\"\"\n",
    "for j=1:length(available_work_time)\n",
    "    println(\"Sum of day \",j,\": \",sum( D[i,j]*task_durations[i] for i=1:length(task_durations) ) )\n",
    "    println(available_work_time[j])\n",
    "end\n",
    "\"\"\""
   ]
  },
  {
   "cell_type": "markdown",
   "metadata": {
    "collapsed": true
   },
   "source": [
    "## 5. Conclusion ##\n",
    "\n",
    "Summarize your findings and your results, and talk about at least one possible future direction; something that might be interesting to pursue as a follow-up to your project."
   ]
  },
  {
   "cell_type": "code",
   "execution_count": null,
   "metadata": {},
   "outputs": [],
   "source": []
  },
  {
   "cell_type": "markdown",
   "metadata": {},
   "source": [
    "## Citations\n",
    "\n",
    "### Modeling, writing, etc.\n",
    "\n",
    "### formulating the project itself:\n",
    "ChatGPT - one line constraints"
   ]
  }
 ],
 "metadata": {
  "kernelspec": {
   "display_name": "Julia 1.8.5",
   "language": "julia",
   "name": "julia-1.8"
  },
  "language_info": {
   "file_extension": ".jl",
   "mimetype": "application/julia",
   "name": "julia",
   "version": "1.8.5"
  }
 },
 "nbformat": 4,
 "nbformat_minor": 1
}
