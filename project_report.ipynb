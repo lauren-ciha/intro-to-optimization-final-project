{
 "cells": [
  {
   "cell_type": "markdown",
   "metadata": {},
   "source": [
    "### CS/ECE/ISyE 524 &mdash; Introduction to Optimization &mdash; Spring 2023 ###\n",
    "\n",
    "### Final Course Project: Due 5/5/23\n",
    "\n",
    "# Project title goes here #\n",
    "\n",
    "#### Lauren Ciha lciha@wisc.edu\n",
    "\n",
    "*****\n",
    "\n",
    "### Table of Contents\n",
    "\n",
    "1. [Introduction](#1.-Introduction)\n",
    "1. [Mathematical Model](#2.-Mathematical-model)\n",
    "1. [Solution](#3.-Solution)\n",
    "1. [Results and Discussion](#4.-Results-and-discussion)\n",
    "  1. [Optional Subsection](#4.A.-Feel-free-to-add-subsections)\n",
    "1. [Conclusion](#5.-Conclusion)"
   ]
  },
  {
   "cell_type": "markdown",
   "metadata": {
    "collapsed": true
   },
   "source": [
    "## 1. Introduction ##\n",
    "\n",
    "To-do lists are great for keeping track of what to do. But they rarely give you a place to start.\n",
    "\n",
    "Here's an example of some of my weekly tasks this semester:\n",
    "\n",
    "![todolist.png](todolist.png)\n",
    "\n",
    "You can see that I have laid out my tasks, put them in a section, and added tags estimating the amount of time it will take me to complete each task. One of these tasks has a subtask.\n",
    "\n",
    "![subtask.png](subtask.png)\n",
    "\n",
    "For this assignment, I prefer to print out the worksheet, fill it out, and then upload it as a pdf. In order to do my homework assignment, then, I need to *first* print out the worksheet. Normally, a subtask indicates part of a task that is included in the main task, but in this case, I'm using a subtask to express that a task depends on another, in other words, that I need to finish the subtask before marking the main task as complete.\n",
    "\n",
    "Currently, Todoist doesn't have a way to label a task as dependent on another. In addition to subtasks, I sometimes express dependency with a '@waiting' tag and then write what I'm waiting for in the task description.\n",
    "\n",
    "![waiting.png](waiting.png)\n",
    "\n",
    "Although task dependency may not appear in the Todoist user interface, it's a well-known linear program. (we can define linear program here if needed). There are two models or frameworks we can use to minimize the time it takes to complete tasks when some tasks depend on others. The first is called multi-planning problem and the other is longest-path. With these two models, we can determine what order I should complete my tasks in to minimize the time it takes to do everything. \n",
    "\n",
    "**In this project, I'm going to model tasks with dependencies from my own to-do list. From there, I plan to use these models as a starting point for suggesting how to incorporate a task dependency feature into the Todoist app.**\n",
    "\n",
    "\n",
    "\n",
    "\n",
    "The first few sentences should give a quick overview of the entire project. Then, elaborate with a description of the problem that will be solved, a brief history (with [citations](https://en.wikipedia.org/wiki/Citation)) of how the problem came about, why it's important/interesting, and any other interesting facts you'd like to talk about. You should address and explain where the problem data is coming from (research? the internet? synthetically generated?) Also give an outline of the rest of the report.\n",
    "\n",
    "This section should be 300-600 words long, and **should be accessible to a general audience** (don't assume your reader has taken the class!). Feel free to include images if you think it'll be helpful:\n",
    "\n",
    "For more help on using Markdown, see [this reference](https://github.com/adam-p/markdown-here/wiki/Markdown-Cheatsheet).\n"
   ]
  },
  {
   "cell_type": "markdown",
   "metadata": {
    "collapsed": true
   },
   "source": [
    "## 2. Mathematical models ##\n",
    "\n",
    "### Generalized Assignment Problem (GAP)\n",
    "\n",
    "Our to-do list scenario falls under the category of the generalized assignment problem (GAP). In a generalized assignment problem, the goal is to match one set of items to another, given certain constraints. In this problem, we want to match tasks to days of the week. \n",
    "\n",
    "Generalized Assignment Problems are a kind of integer program because we are forcing our objective to be an integer value. For example, in this program, there isn't a range of values between days of the week: it's either Monday or Tuesday or Wednesday and so on.\n",
    "\n",
    "\n",
    "### Assumptions\n",
    "\n",
    "**For this problem, I will assume that:**\n",
    "* I know the amount of time it will take me to complete each task.\n",
    "* I only have a certain amount of time available each day to work on tasks.\n",
    "* I can only do one task at a time.\n",
    "* I am doing each task in one and only one sitting.\n",
    "* There is no travel time or break time needed between tasks.\n",
    "* Some, but not all, tasks depend on other tasks.\n",
    "\n",
    "**Before we jump into the decision variables, constraints, and objective, let's get some notation out of the way:**\n",
    "* Let $\\mathcal{T}$ be the set of tasks to complete.\n",
    "* Let $\\mathcal{D}$ be the set of days for the tasks to be completed in.\n",
    "* Let $\\mathcal{P}$ be the set of tasks that are the ancestors of a given task.\n",
    "* Let $\\text{duration}_i$ be the set of task durations for a task i.\n",
    "* Let $\\text{available_work_time}$ be the set of times (in minutes) that I can work each day in $\\mathcal{D}$.\n",
    "* Let $\\text{deadlines}_i$ be the set of deadlines for each task in $\\mathcal{T}$\n"
   ]
  },
  {
   "cell_type": "markdown",
   "metadata": {},
   "source": [
    "### Decision Variables \n",
    "\n",
    "For this model, we need to decide which day a task will be done. We can represent this choice with a binary variable $d$ in a $|\\mathcal{T}|$ x $|\\mathcal{D}|$ matrix such that:\n",
    "\n",
    "$ d_{i \\in \\mathcal{T}, j \\in \\mathcal{D}} = \\begin{cases}\n",
    "1 \\quad \\text{if task i is completed on day j} \\\\\n",
    "0 \\quad \\text{otherwise}\n",
    "\\end{cases}$\n",
    "\n",
    "The model will generate a $d$ matrix where we can figure out the task-day assignments by seeing which values are 1."
   ]
  },
  {
   "cell_type": "markdown",
   "metadata": {},
   "source": [
    "### Constraints\n",
    "\n",
    "\n",
    "#### Simple constraints:\n",
    "\n",
    "* Each task must be assigned a day and only one day: $\\quad\\sum_{j \\in \\mathcal{D}} d_{ij} = 1$\n",
    "* The time needed to complete all the tasks in one day cannot exceed the day's available work time: $\\quad\\sum_{i \\in \\mathcal{T}, j \\in \\mathcal{D}} d_{ij}*\\text{duration}_{i} \\le \\text{available_work_time}_j$\n"
   ]
  },
  {
   "cell_type": "markdown",
   "metadata": {},
   "source": [
    "#### Boolean constraints\n",
    "\n",
    "The next two constraints are a bit more complicated because they include boolean logic.\n",
    "\n",
    "##### Deadline constraint\n",
    "\n",
    "* Each task must be completed before its deadline:\n",
    "    We can phrase this constraint as \"if $j > deadline_i$, then $d_{ij} = 0$. Using rules from logical constraints, we can write the constraint as the formula:\n",
    "    \n",
    "    for $i \\in \\mathcal{T}$ and $j \\in \\mathcal{D}$, $j - deadlines_i <= M(1 - d_{ij})$, where $M$ is $|\\mathcal{D}|$ - 1\n",
    "\n",
    "We can see why this works in the following example:\n",
    "\n",
    "*Case 1: task i's day done j is before i's deadline:*\n",
    "\n",
    "Suppose $deadlines_i = 2, j = 1 $\n",
    "    \n",
    "$-1 \\le M(1 - d_{ij})$\n",
    "    \n",
    "When $d_{ij} = 1$, the right hand side is 0. When $d_{ij} = 0$, the right hand side is M. In both cases, the inequality holds, so $d_{ij}$ could be 0 or 1.\n",
    "    \n",
    "*Case 2: task i's day done j the same as i's deadline:*\n",
    "\n",
    "Suppose $deadlines_i = j = 2 $\n",
    "\n",
    "$ 0 \\le M(1-dij) $\n",
    "\n",
    "When $d_{ij} = 1$, the right hand side is 0. When $d_{ij} = 0$, the right hand side is M. Like the case above, the inequality holds in both choices for $d_{ij}$, so $d_{ij} $ could be 0 or 1.\n",
    "    \n",
    "*Case 3: task i's day done j is after i's deadline:*\n",
    "\n",
    "Suppose $deadlines_i = 2, j = 3$\n",
    "\n",
    "$1 \\le M(1-d_{ij}) $ \n",
    "    \n",
    "When $d_{ij} = 0$, the right hand side is M, so the inequality holds. However, when $d_{ij} = 1$, that yields $ 1 \\le 0 $, which is an invalid inequality. Therefore, when we set the constraint $ 1 \\le 1(1-d_{ij}) $, we force $d_{ij}$ to be zero whenever j is greater than k. As a result, this formula captures the logical constraint in our problem.\n"
   ]
  },
  {
   "cell_type": "markdown",
   "metadata": {},
   "source": [
    "##### Precedence constraints\n",
    "\n",
    "* A task with a precendence constraint cannot occur on a day before its preceding task is done. In other words, if task p precedes q and p occurs on day k, $d_{qj} = 0$ where $j < k$.\n",
    "\n",
    "We can split the above constraint into two parts:\n",
    "\n",
    "**Part one: $d_{qj} = 0$ if $k > j$, where task p precedes q, p occurs on day k, and j is the day task q is done.**\n",
    "\n",
    "Since it's challenging to model strict inequalities as logical constraints, we will use the contrapositive:\n",
    "* if $d_{qj} = 1$, then $k \\le j$ where task p precedes q, p occurs on day k, and q occurs on day j.\n",
    "\n",
    "Here, we can apply a similar logic rule to the one in the deadline constraint to get:\n",
    "\n",
    "for $i \\in \\mathcal{T}$ and $j \\in \\mathcal{D}, k - j <= M(1-d_{ij})$, where $M$ is $|\\mathcal{D}|$ - 1.\n",
    "\n",
    "This equation forces $d_{ij}$ to be 0 whenever k > j while letting $d_{ij}$ be 0 or 1 when k <= j.\n",
    "\n",
    "**Part two: if p precedes q**\n",
    "\n",
    "We can create a constraint $z_{pq}$ in a $|\\mathcal{T}|$ x $|\\mathcal{T}|$ matrix such that:\n",
    "\n",
    "$ z_{p \\in \\mathcal{T}, q \\in \\mathcal{T}} = \\begin{cases}\n",
    "1 \\quad \\text{if task p must precede task q} \\\\\n",
    "0 \\quad \\text{otherwise}\n",
    "\\end{cases}$\n",
    "\n",
    "The $z$ values are set based on the precedence table given.\n",
    "\n",
    "The key now is to incorporate this z value into the constraint we found above. We can write the logic of the entire constraint as follows:\n",
    "\n",
    "If task p must precede q and p occurs on day k, $d_{qj} = 0$ where $j < k$.\n",
    "\n",
    "$\\Leftrightarrow$ If $z_{pq} = d_{pk} = 1$, then $k - j \\le M(1-d_{qj})$ (part one of this constraint)\n",
    "\n",
    "Since our if statement's precedent is $z_{pq} = d_{pk} = 1$, we can add $z_{pq}$ to the subtractions in the previous constraint and then translate the whole if statement into a formulaic constraint:\n",
    "\n",
    "If $z_{pq} = d_{pk} = 1$, then $k - j \\le M(1-d_{qj})$ (part one of this constraint)\n",
    "\n",
    "can be translated to:\n",
    "\n",
    "###### The set of precedence constraints is:\n",
    "\n",
    "$\\forall p,q \\in z, (k - j) - M(2-d_{qj}-z_{pq}) \\le M(2-z_{pq}-d_{qj})$\n",
    "\n",
    "where $M$ is $|\\mathcal{D}|$ - 1.\n",
    "\n",
    "We can show this models the constraint both when $z_{pq} = 0$ and \n",
    "when $z_{pq} = 1$.\n",
    "\n",
    "Suppose $z_{pq} = 1$, $M$ and $|\\mathcal{D}|$ - 1.\n",
    "\n",
    "*Case 1: j (the day q is done) > k (for example, k = 1 and j = 2):*\n",
    "\n",
    "$$\n",
    "\\begin{aligned} \\\\\n",
    "&(1 - 2) - M(2-d_{qj}-1) \\le M(2-1-d_{qj})\\\\\n",
    "&-1 - M(1-d_{qj}) \\le M(1-d_{qj}) \\\\\n",
    "&\\text{if } d_{qj} = 1: \\\\\n",
    "&\\qquad\\qquad-1 - 0 \\le 0 \\quad\\text{(satisfies inequality)}\\\\\n",
    "&\\text{if } d_{qj} = 0 \\\\\n",
    "&\\qquad\\qquad-1 - M \\le M \\quad\\text{(satisfies inequality)}\\\\\n",
    "\\end{aligned}\n",
    "$$\n",
    "\n",
    "Since the left hand side will be a negative number minus $M$, $d_{qj}$ can be 0 or 1 whenever j > k.\n",
    "\n",
    "*Case 2: j (the day q is done) < k (for example, k = 2 and j = 1):*\n",
    "\n",
    "$$\n",
    "\\begin{aligned} \\\\\n",
    "&(2 - 1) - M(2-d_{qj}-1) \\le M(2-1-d_{qj})\\\\\n",
    "&1 - M(1-d_{qj}) \\le M(1-d_{qj}) \\\\\n",
    "&\\text{if } d_{qj} = 1: \\\\\n",
    "&\\qquad\\qquad1 - 0 \\le 0 \\quad\\text{(cannot satisfy inequality)}\\\\\n",
    "&\\text{if } d_{qj} = 0 \\\\\n",
    "&\\qquad\\qquad1 - M \\le M \\quad\\text{(satisfies inequality)}\\\\\n",
    "\\end{aligned}\n",
    "$$\n",
    "\n",
    "Since in this case k - j is always positive, the only way to satisfy the inequality is to set d_{qj} to zero. In other words, this equation forces d_{qj} to 0 whenever j < k or whenever a task could occur on the day before its preceding task is done.\n",
    "\n",
    "*Case 3: j (the day q is done) = k (for example, k = j = 2)*\n",
    "\n",
    "$$\n",
    "\\begin{aligned} \\\\\n",
    "&(2 - 2) - M(2-d_{qj}-1) \\le M(2-1-d_{qj}) \\\\\n",
    "&0 - M(1-d_{qj}) \\le M(1-d_{qj}) \\\\\n",
    "&\\text{if } d_{qj} = 1: \\\\\n",
    "&\\qquad\\qquad0 \\le 0 \\quad\\text{(satisfies inequality)}\\\\\n",
    "&\\text{if } d_{qj} = 0 \\\\\n",
    "&\\qquad\\qquad-M \\le M \\quad\\text{(satisfies inequality)}\\\\\n",
    "\\end{aligned}\n",
    "$$\n",
    "\n",
    "Since we will always get a situation where $-M <= M, d_{qj}$ can be zero or one whenever a task and its preceding task are done on the same day. One limitation of this model is that it cannot put tasks in absolute order, just assign tasks to days in a way that satisfies the precedence constraints.\n",
    "           \n",
    "A similar exercise can show that the formula satisifes the constraint when $z_{pq} = 0$. For brevity, I will just give the inequalities for the three cases with $z_{pq} = 0$ and $M$ = $|\\mathcal{D}|$ - 1. When $z_{pq} = 0$, $d_{pq}$ can be either zero or one in all three cases.\n",
    "\n",
    "*Case 1: j (the day q is done) > k (for example, k = 1 and j = 2)*\n",
    "\n",
    "$$\n",
    "\\begin{aligned}\n",
    "&\\text{(a negative number)} - M(2-d_{pq}) \\le M(2-d_{pq})\n",
    "\\end{aligned}\n",
    "$$\n",
    "\n",
    "*Case 2: j (the day q is done) < k (for example, k = 2 and j = 1)*\n",
    "\n",
    "$$\n",
    "\\begin{aligned}\n",
    "&\\text{(a positive number)} - M(2-d_{pq}) \\le M(2-d_{pq})\n",
    "\\end{aligned}\n",
    "$$\n",
    "\n",
    "*Case 3: j (the day q is done) = k (for example, k = j = 2)*\n",
    "\n",
    "$$\n",
    "\\begin{aligned}\n",
    "&0 - M(2-d_{pq}) \\le M(2-d_{pq})\n",
    "\\end{aligned}\n",
    "$$\n"
   ]
  },
  {
   "cell_type": "markdown",
   "metadata": {},
   "source": [
    "### Objective\n",
    "\n",
    "Any solution that satisfies the constraints provides a way to complete my tasks on time, but we can use an objective to influence the schedule provided. For example, in this problem I want to minimize procrastination, so we can write the objective as:\n",
    "\n",
    "$\\text{minimize} \\sum d_{ij} * j \\qquad \\forall i \\in \\mathcal{T}, \\quad \\forall j \\in \\mathcal{D}$\n",
    "\n",
    "This equation effectively minimizes procrastination because $d_{ij}$ is a binary variable (0 or 1) and we are indexing days with integers (Monday = 1, Tuesday = 2, etc.). Therefore, when we multiply each $d_{ij}$ by j, we will get a smaller summation if each task is completed earlier rather than later.\n"
   ]
  },
  {
   "cell_type": "markdown",
   "metadata": {},
   "source": [
    "### In standard form, we can write this as:\n",
    "$$\n",
    "\\begin{aligned} \\\\\n",
    "\\text{minimize} \\qquad& \\sum d_{ij} * j \\quad \\forall i \\in \\mathcal{T}, \\quad \\forall j \\in \\mathcal{D} \\\\\n",
    "& \\sum_{j \\in \\mathcal{D}} d_{ij} = 1 \\\\\n",
    "& \\sum_{i \\in \\mathcal{T}, j \\in \\mathcal{D}} d_{ij} \\le |\\mathcal{T}| \\\\\n",
    "& \\sum_{i \\in \\mathcal{T}, j \\in \\mathcal{D}} d_{ij}*\\text{duration}_{i} \\le \\text{available_work_time}_j \\\\\n",
    "& \\forall i \\in \\mathcal{T} \\text{and } j \\in \\mathcal{D}, j - deadlines_i <= M(1 - d_{ij}) \\\\\n",
    "& \\forall p,q \\in z, (k - j) - M(2-d_{qj}-z_{pq}) \\le M(2-z_{pq}-d_{qj}) \\\\\n",
    "& M = |\\mathcal{D}| - 1\n",
    "\\end{aligned}\n",
    "$$\n",
    "\n",
    "$ d_{i \\in \\mathcal{T}, j \\in \\mathcal{D}} = \\begin{cases}\n",
    "1 \\quad \\text{if task i is completed on day j} \\\\\n",
    "0 \\quad \\text{otherwise}\n",
    "\\end{cases}$\n",
    "\n",
    "$ z_{p \\in \\mathcal{T}, q \\in \\mathcal{T}} = \\begin{cases}\n",
    "1 \\quad \\text{if task p must precede task q} \\\\\n",
    "0 \\quad \\text{otherwise}\n",
    "\\end{cases}$\n",
    "\n",
    "\n"
   ]
  },
  {
   "cell_type": "markdown",
   "metadata": {
    "collapsed": true
   },
   "source": [
    "## 3. Solution ##"
   ]
  },
  {
   "cell_type": "markdown",
   "metadata": {},
   "source": [
    "We can summarize the information in the to-do list in the following table:"
   ]
  },
  {
   "cell_type": "markdown",
   "metadata": {},
   "source": [
    "| Task Name                    | Immediate Predecessors | Duration (minutes) |\n",
    "|------------------------------|------------------------|--------------------|\n",
    "| 524 homework                 | None                   |        360         |\n",
    "| 577 homework                 | c                      |        60          |\n",
    "| print off 577 homework sheet | None                   |        15          |\n",
    "| 354 homework                 | None                   |        120         |\n",
    "| 354 project                  | None                   |        360         |\n",
    "| print off 354 notes sheet    | None                   |        15          |"
   ]
  },
  {
   "cell_type": "markdown",
   "metadata": {},
   "source": [
    "### Data for the problem:"
   ]
  },
  {
   "cell_type": "code",
   "execution_count": 5,
   "metadata": {},
   "outputs": [],
   "source": [
    "tasks = [\"524 homework\", \"577 homework\", \"print off 577 homework sheet\", \"354 homework\",\n",
    "    \"354 project\", \"print off 354 notes sheet\"]\n",
    "\n",
    "# duration is expressed in minutes (where tasks have a duration in 15 minute intervals)\n",
    "durations = [ 3*60 60 15 120 6*60 15 ]\n",
    "\n",
    "# pred stores ancestors on each task\n",
    "pred = ( [], [3], [], [], [], [] )\n",
    "num_tasks = length(tasks)\n",
    "\n",
    "# deadlines for each task - 11:59pm that day is the same as <= deadline + 1\n",
    "deadlines = [ 3 4 4 1 5 2 ]\n",
    "    \n",
    "# Day related data:\n",
    "days = [\"Monday\", \"Tuesday\", \"Wednesday\", \"Thursday\", \"Friday\"]\n",
    "    \n",
    "# each entry corresponds to a day\n",
    "available_work_time = [ 5*60 2*60 60 45 7*60]\n",
    "\n",
    "num_days = length(days)\n",
    "\n",
    "print()"
   ]
  },
  {
   "cell_type": "markdown",
   "metadata": {},
   "source": [
    "### Code for Solution: "
   ]
  },
  {
   "cell_type": "code",
   "execution_count": 9,
   "metadata": {},
   "outputs": [
    {
     "name": "stdout",
     "output_type": "stream",
     "text": [
      "Monday: \n",
      "\t524 homework\n",
      "\t354 homework\n",
      "Tuesday: \n",
      "\t577 homework\n",
      "\tprint off 577 homework sheet\n",
      "\tprint off 354 notes sheet\n",
      "Wednesday: \n",
      "Thursday: \n",
      "Friday: \n",
      "\t354 project\n",
      "\n"
     ]
    }
   ],
   "source": [
    "using JuMP, HiGHS\n",
    "m = Model(HiGHS.Optimizer)\n",
    "set_silent(m)\n",
    "\n",
    "# day integer variable where d[i,j] == 1 when task i is assigned to day j\n",
    "@variable(m, d[1:num_tasks, 1:num_days], Bin)\n",
    "\n",
    "# each task must be assigned a day and only one day\n",
    "@constraint(m, r2[i=1:num_tasks], sum( d[i,j] for j=1:num_days) == 1)\n",
    "\n",
    "# the time to complete all tasks in a day can't exceed work time per day\n",
    "[ @constraint(m, sum(d[i,j]*durations[i] for i=1:num_tasks) <= available_work_time[j]) for j=1:num_days ]\n",
    "\n",
    "# enforce precedence constraints in d - a task q that follows p cannot happen on a day before p is done\n",
    "for q=1:num_tasks, p in pred[q]\n",
    "    for j=1:num_days\n",
    "        if (d[p,j] == 1)\n",
    "            for k=1:j-1\n",
    "                @constraint(m, d[q,k] == 0)\n",
    "            end\n",
    "        end\n",
    "    end\n",
    "end\n",
    "\n",
    "# meet deadlines\n",
    "[ @constraint(m, d[i,j] == 0) for i=1:num_tasks, j=1:num_days if j > deadlines[i]]\n",
    "\n",
    "# we want to prevent procrastination, so we are going to minimize the last day that all the tasks can be done\n",
    "@objective(m, Min, sum( d[i,j]*j for i=1:num_tasks, j=1:num_days))\n",
    "\n",
    "optimize!(m)\n",
    "\n",
    "D = value.(d)\n",
    "\n",
    "# dictionary with days and tasks\n",
    "plan = []\n",
    "# task - day dictionary\n",
    "task_assignment = []\n",
    "\n",
    "for j=1:num_days\n",
    "    println(days[j],\": \")\n",
    "    day = []\n",
    "    for i=1:num_tasks\n",
    "        if (D[i,j] == 1)\n",
    "            println(\"\\t\",tasks[i])\n",
    "            push!(day, tasks[i])\n",
    "            push!(task_assignment, (tasks[i], days[j]))\n",
    "        end\n",
    "    end\n",
    "    push!(plan, (days[j], day))\n",
    "end\n",
    "println()"
   ]
  },
  {
   "cell_type": "markdown",
   "metadata": {
    "collapsed": true
   },
   "source": [
    "## 4. Results and discussion ##\n",
    "\n",
    "Here, you display and discuss the results. Show figures, plots, images, trade-off curves, or whatever else you can think of to best illustrate your results. The discussion should explain what the results mean, and how to interpret them. You should also explain the limitations of your approach/model and how sensitive your results are to the assumptions you made.\n",
    "\n",
    "## Ideas:\n",
    "Graphs illustrating what the clusters are?\n"
   ]
  },
  {
   "cell_type": "code",
   "execution_count": 3,
   "metadata": {},
   "outputs": [
    {
     "data": {
      "image/png": "[encoded data removed]",
      "text/plain": [
       "Figure(PyObject <Figure size 640x480 with 1 Axes>)"
      ]
     },
     "metadata": {},
     "output_type": "display_data"
    },
    {
     "data": {
      "text/plain": [
       "PyObject Text(0.5, 1.0, 'Work Time Each Day')"
      ]
     },
     "execution_count": 3,
     "metadata": {},
     "output_type": "execute_result"
    }
   ],
   "source": [
    "# How much time is allocated per day?\n",
    "using PyPlot\n",
    "\n",
    "total_work_time = []\n",
    "above = []\n",
    "\n",
    "for j=1:length(available_work_time)\n",
    "    push!(total_work_time, sum( D[i,j]*durations[i] for i=1:num_tasks ) )\n",
    "    push!(above, available_work_time[j] - sum( D[i,j]*durations[i] for i=1:num_tasks ) )\n",
    "end\n",
    "\n",
    "plt.bar(days, total_work_time, label=\"Time Worked\")\n",
    "plt.bar(days, above, bottom=total_work_time, label=\"Time Available\")\n",
    "plt.ylabel(\"Minutes\")\n",
    "plt.xlabel(\"Day of the week\")\n",
    "\n",
    "plt.legend()\n",
    "\n",
    "plt.title(\"Work Time Each Day\")"
   ]
  },
  {
   "cell_type": "code",
   "execution_count": null,
   "metadata": {},
   "outputs": [],
   "source": [
    "# Given the results above, we can draw out the dependency (house) problem like this:\n"
   ]
  },
  {
   "cell_type": "markdown",
   "metadata": {
    "collapsed": true
   },
   "source": [
    "## 5. Conclusion ##\n",
    "\n",
    "Summarize your findings and your results, and talk about at least one possible future direction; something that might be interesting to pursue as a follow-up to your project."
   ]
  },
  {
   "cell_type": "code",
   "execution_count": null,
   "metadata": {},
   "outputs": [],
   "source": []
  },
  {
   "cell_type": "markdown",
   "metadata": {},
   "source": [
    "## Citations\n",
    "\n",
    "### Modeling, writing, etc.\n",
    "\n",
    "### formulating the project itself:\n",
    "ChatGPT - one line constraints"
   ]
  }
 ],
 "metadata": {
  "kernelspec": {
   "display_name": "Julia 1.8.5",
   "language": "julia",
   "name": "julia-1.8"
  },
  "language_info": {
   "file_extension": ".jl",
   "mimetype": "application/julia",
   "name": "julia",
   "version": "1.8.5"
  }
 },
 "nbformat": 4,
 "nbformat_minor": 1
}
