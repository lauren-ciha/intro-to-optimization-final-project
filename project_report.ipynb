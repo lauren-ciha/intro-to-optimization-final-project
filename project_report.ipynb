{
 "cells": [
  {
   "cell_type": "markdown",
   "metadata": {},
   "source": [
    "### CS/ECE/ISyE 524 &mdash; Introduction to Optimization &mdash; Spring 2023 ###\n",
    "\n",
    "### Final Course Project: Due 5/5/23\n",
    "\n",
    "# Project title goes here #\n",
    "\n",
    "#### Lauren Ciha lciha@wisc.edu\n",
    "\n",
    "*Disclaimer: I was not paid by Todoist to do my project on their app or to market their app in any way. I chose to do my project on the Todoist app and task dependency because I wanted to hack my to-do list, which is currently in Todoist. Many of the conclusions here transfer to other productivity apps as well.*\n",
    "\n",
    "*****\n",
    "\n",
    "### Table of Contents\n",
    "\n",
    "1. [Introduction](#1.-Introduction)\n",
    "1. [Mathematical Model](#2.-Mathematical-model)\n",
    "1. [Solution](#3.-Solution)\n",
    "1. [Results and Discussion](#4.-Results-and-discussion)\n",
    "  1. [Optional Subsection](#4.A.-Feel-free-to-add-subsections)\n",
    "1. [Conclusion](#5.-Conclusion)"
   ]
  },
  {
   "attachments": {},
   "cell_type": "markdown",
   "metadata": {
    "collapsed": true
   },
   "source": [
    "## 1. Introduction ##\n",
    "\n",
    "To-do lists are great for keeping track of what to do. But they rarely give you a place to start.\n",
    "\n",
    "I use the Todoist app (put a link in here) to keep track of what I need to do. The app allows you to sort tasks into projects and further into sections. From there, you can set deadlines, add tags to sort tasks, and rate their priority.\n",
    "\n",
    "Here's an example of some of my weekly tasks this semester:\n",
    "\n",
    "![todolist.png](todolist.png)\n",
    "\n",
    "You can see that I have laid out my tasks, put them in a section, and added tags estimating the amount of time it will take me to complete each task. One of these tasks has a subtask.\n",
    "\n",
    "![subtask.png](subtask.png)\n",
    "\n",
    "For this assignment, I prefer to print out the worksheet, fill it out, and then upload it as a pdf. In order to do my homework assignment, then, I need to *first* print out the worksheet. Normally, a subtask indicates part of a task that is included in the main task, but in this case, I'm using a subtask to express that a task depends on another, in other words, that I need to finish the subtask before marking the main task as complete.\n",
    "\n",
    "Currently, Todoist doesn't have a way to label a task as dependent on another. In addition to subtasks, I sometimes express dependency with a '@waiting' tag and then write what I'm waiting for in the task description.\n",
    "\n",
    "![waiting.png](waiting.png)\n",
    "\n",
    "Although task dependency may not appear in the Todoist user interface, it's a well-known linear program. (we can define linear program here if needed). There are two models or frameworks we can use to minimize the time it takes to complete tasks when some tasks depend on others. The first is called multi-planning problem and the other is longest-path. With these two models, we can determine what order I should complete my tasks in to minimize the time it takes to do everything. \n",
    "\n",
    "**In this project, I'm going to model tasks with dependencies from my own to-do list. From there, I plan to use these models as a starting point for suggesting how to incorporate a task dependency feature into the Todoist app.**\n",
    "\n",
    "\n",
    "\n",
    "\n",
    "The first few sentences should give a quick overview of the entire project. Then, elaborate with a description of the problem that will be solved, a brief history (with [citations](https://en.wikipedia.org/wiki/Citation)) of how the problem came about, why it's important/interesting, and any other interesting facts you'd like to talk about. You should address and explain where the problem data is coming from (research? the internet? synthetically generated?) Also give an outline of the rest of the report.\n",
    "\n",
    "This section should be 300-600 words long, and **should be accessible to a general audience** (don't assume your reader has taken the class!). Feel free to include images if you think it'll be helpful:\n",
    "\n",
    "For more help on using Markdown, see [this reference](https://github.com/adam-p/markdown-here/wiki/Markdown-Cheatsheet).\n"
   ]
  },
  {
   "attachments": {},
   "cell_type": "markdown",
   "metadata": {
    "collapsed": true
   },
   "source": [
    "## 2. Mathematical models ##\n",
    "\n",
    "### Set up for getting into the model: what qualities does the real-world problem have?\n",
    "\n",
    "Let's take a look at that to-do list again:\n",
    "\n",
    "![todolist.png](todolist.png)\n",
    "\n",
    "Here's what we know about our problem:\n",
    "* We want to minimize the amount of time it's going to take to do the tasks\n",
    "* We have tasks, their estimated time to complete, and travel time?\n",
    "* Some tasks need to be done before other tasks\n",
    "* What we're looking for in particular is the sequence of tasks, rather than the time to complete these tasks\n",
    "\n",
    "Man, I hope my problem isn't trivial\n",
    "\n",
    "### Modeling as a scheduling (multi-period planning problem)\n",
    "* what is a multi-period planning problem?\n",
    "* what are the assumptions?\n",
    "* what does the graph for this problem look like?\n",
    "* decision variables\n",
    "* constraints\n",
    "* objective\n",
    "\n",
    "### Modeling as a longest-path problem (network flow)\n",
    "* what is a longest-path planning problem?\n",
    "* what are the assumptions?\n",
    "* what does the graph for this problem look like?\n",
    "* decision variables\n",
    "* constraints\n",
    "* objective\n",
    "\n",
    "### Why look at both? Comparison between the two\n",
    "\n",
    "Here is an example of an equation:\n",
    "\n",
    "$$\n",
    "\\begin{bmatrix}\n",
    "  1 & 2 \\\\\n",
    "  3 & 4\n",
    "\\end{bmatrix}\n",
    "\\begin{bmatrix} x \\\\ y \\end{bmatrix} =\n",
    "\\begin{bmatrix} 5 \\\\ 6 \\end{bmatrix}\n",
    "$$\n",
    "\n",
    "And here is an example of an optimization problem in standard form:\n",
    "\n",
    "$$\n",
    "\\begin{aligned}\n",
    "\\underset{x \\in \\mathbb{R^n}}{\\text{maximize}}\\qquad& f_0(x) \\\\\n",
    "\\text{subject to:}\\qquad& f_i(x) \\le 0 && i=1,\\dots,m\\\\\n",
    "& h_j(x) = 0 && j=1,\\dots,r\n",
    "\\end{aligned}\n",
    "$$\n",
    "\n",
    "For some quick tips on using $\\LaTeX$, see [this cheat sheet](http://users.dickinson.edu/~richesod/latex/latexcheatsheet.pdf)."
   ]
  },
  {
   "cell_type": "markdown",
   "metadata": {},
   "source": [
    "## Formulation 2: \n",
    "\n",
    "### What's new?\n",
    "\n",
    "### Multi-period planning\n",
    "\n",
    "### Longest path problem"
   ]
  },
  {
   "cell_type": "markdown",
   "metadata": {},
   "source": [
    "## Formulation 3:\n",
    "\n",
    "### What's new?\n",
    "\n",
    "### Multi-period planning\n",
    "\n",
    "### Longest path problem"
   ]
  },
  {
   "cell_type": "markdown",
   "metadata": {
    "collapsed": true
   },
   "source": [
    "## 3. Solution ##\n",
    "\n",
    "Here, you should code up your model in Julia + JuMP and solve it. Your code should be clean, easy to read, well annotated and commented, and it should compile! You are not allowed to use other programming languages or DCP packages such as `convex.jl`. **I will be running your code**. I suggest having multiple code blocks separated by text blocks that explain the various parts of your solution. You may also solve several versions of your problem with different models/assumptions.\n",
    "\n",
    "It's fine to call external packages such as `Gurobi`, but try to minimize the use of exotic libraries."
   ]
  },
  {
   "cell_type": "code",
   "execution_count": 1,
   "metadata": {},
   "outputs": [
    {
     "name": "stdout",
     "output_type": "stream",
     "text": [
      "The total number of horses is: 10.0\n",
      "The total number of donkeys is: 0.0\n",
      "The total number of goats is: 0.0\n",
      "Coin0506I Presolve 0 (-1) rows, 0 (-3) columns and 0 (-3) elements\n",
      "Clp3002W Empty problem - 0 rows, 0 columns and 0 elements\n",
      "Clp0000I Optimal - objective value 10\n",
      "Coin0511I After Postsolve, objective 10, infeasibilities - dual 0 (0), primal 0 (0)\n",
      "Clp0032I Optimal objective 10 - 0 iterations time 0.002, Presolve 0.00\n"
     ]
    }
   ],
   "source": [
    "# this is a code block\n",
    "using JuMP, Clp\n",
    "m=Model(Clp.Optimizer)\n",
    "\n",
    "things = [:horses, :donkeys, :goats]  # these are the things \n",
    "@variable(m, x[things] >= 0)          # the quantities of each of the things (can't be negative)\n",
    "@constraint(m, sum(x) <= 10)          # we can't have any more than 10 things total\n",
    "@objective(m, Max, x[:horses])        # we want to maximize the number of horses\n",
    "optimize!(m)\n",
    "\n",
    "for i in things\n",
    "    println(\"The total number of \", i, \" is: \", value(x[i]))     # print result\n",
    "end"
   ]
  },
  {
   "cell_type": "markdown",
   "metadata": {},
   "source": [
    "Remember to make sure your code compiles! I will be running your code!"
   ]
  },
  {
   "cell_type": "markdown",
   "metadata": {
    "collapsed": true
   },
   "source": [
    "## 4. Results and discussion ##\n",
    "\n",
    "Here, you display and discuss the results. Show figures, plots, images, trade-off curves, or whatever else you can think of to best illustrate your results. The discussion should explain what the results mean, and how to interpret them. You should also explain the limitations of your approach/model and how sensitive your results are to the assumptions you made.\n",
    "\n",
    "Use plots (see `PyPlot` examples from class), or you can display results in a table like this:\n",
    "\n",
    "| Tables        | Are           | Cool  |\n",
    "| ------------- |:-------------:| -----:|\n",
    "| col 3 is      | right-aligned |\\$1600 |\n",
    "| col 2 is      | centered      |  \\$12 |\n",
    "| zebra stripes | are neat      |   \\$1 |\n",
    "\n",
    "### 4.A. Feel free to add subsections\n",
    "\n",
    "#### 4.A.a. or subsubsections"
   ]
  },
  {
   "cell_type": "markdown",
   "metadata": {
    "collapsed": true
   },
   "source": [
    "## 5. Conclusion ##\n",
    "\n",
    "Summarize your findings and your results, and talk about at least one possible future direction; something that might be interesting to pursue as a follow-up to your project."
   ]
  },
  {
   "cell_type": "code",
   "execution_count": null,
   "metadata": {},
   "outputs": [],
   "source": []
  },
  {
   "cell_type": "markdown",
   "metadata": {},
   "source": [
    "## Citations\n",
    "\n",
    "### Modeling, writing, etc.\n",
    "\n",
    "### formulating the project itself:\n"
   ]
  }
 ],
 "metadata": {
  "kernelspec": {
   "display_name": "Julia 1.8.5",
   "language": "julia",
   "name": "julia-1.8"
  },
  "language_info": {
   "file_extension": ".jl",
   "mimetype": "application/julia",
   "name": "julia",
   "version": "1.8.5"
  }
 },
 "nbformat": 4,
 "nbformat_minor": 1
}
